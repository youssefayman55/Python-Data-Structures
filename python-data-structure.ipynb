{
 "cells": [
  {
   "cell_type": "markdown",
   "id": "15bef97a",
   "metadata": {
    "papermill": {
     "duration": 0.012617,
     "end_time": "2024-10-09T19:22:12.109744",
     "exception": false,
     "start_time": "2024-10-09T19:22:12.097127",
     "status": "completed"
    },
    "tags": []
   },
   "source": [
    "# What is Data Structure ?\n",
    "### A data structure is a way of organizing, managing, and storing data so that it can be accessed and modified efficiently. Different types of data structures are suited for different kinds of tasks, and choosing the right one can significantly impact the performance of algorithms."
   ]
  },
  {
   "cell_type": "markdown",
   "id": "fddad0fe",
   "metadata": {
    "papermill": {
     "duration": 0.008954,
     "end_time": "2024-10-09T19:22:12.128532",
     "exception": false,
     "start_time": "2024-10-09T19:22:12.119578",
     "status": "completed"
    },
    "tags": []
   },
   "source": [
    "# Why do we need data structures?\n",
    "## 1- Efficient data management: Data structures allow us to organize data efficiently, making it easier to store, retrieve, and manipulate data.\n",
    "\n",
    "### 2- Optimized algorithms: Many algorithms are designed to work efficiently with specific data structures. For example, searching algorithms like binary search work well with sorted arrays, while graph algorithms rely on adjacency lists or matrices.\n",
    "\n",
    "### 3- Better performance: By selecting the appropriate data structure for a task, we can minimize the time complexity (e.g., reduce the number of operations required) and memory usage.\n",
    "\n",
    "### 4- Real-world applications: Data structures are used in almost every software application—from databases, file systems, and search engines to web browsers and social media platforms."
   ]
  },
  {
   "cell_type": "markdown",
   "id": "cbdf76ce",
   "metadata": {
    "papermill": {
     "duration": 0.009095,
     "end_time": "2024-10-09T19:22:12.146989",
     "exception": false,
     "start_time": "2024-10-09T19:22:12.137894",
     "status": "completed"
    },
    "tags": []
   },
   "source": [
    "# Common python data structures:\n",
    "### 1. List : A Python list is a mutable, ordered collection of elements..\n",
    "\n",
    "### 2. Tuple : A Python tuple is an immutable, ordered collection of elements.\n",
    "\n",
    "### 3. Dictionary : A Python dictionary is a mutable, unordered collection of key-value pairs.\n",
    "\n",
    "### 4. Set : A Python set is an unordered collection of unique elements.\n",
    "\n",
    "### 5. Stack (using List) : A stack follows the Last In, First Out (LIFO) principle.\n",
    "\n",
    "### 6. Queue (using List) : A queue follows the First In, First Out (FIFO) principle.\n",
    "\n",
    "### Understanding and using the right data structure is crucial for developing effective software solutions."
   ]
  },
  {
   "cell_type": "markdown",
   "id": "ee5ab1a5",
   "metadata": {
    "papermill": {
     "duration": 0.008873,
     "end_time": "2024-10-09T19:22:12.165245",
     "exception": false,
     "start_time": "2024-10-09T19:22:12.156372",
     "status": "completed"
    },
    "tags": []
   },
   "source": [
    "# 1- list"
   ]
  },
  {
   "cell_type": "code",
   "execution_count": 1,
   "id": "83fbb85a",
   "metadata": {
    "_cell_guid": "b1076dfc-b9ad-4769-8c92-a6c4dae69d19",
    "_uuid": "8f2839f25d086af736a60e9eeb907d3b93b6e0e5",
    "execution": {
     "iopub.execute_input": "2024-10-09T19:22:12.187362Z",
     "iopub.status.busy": "2024-10-09T19:22:12.186866Z",
     "iopub.status.idle": "2024-10-09T19:22:12.203680Z",
     "shell.execute_reply": "2024-10-09T19:22:12.201745Z"
    },
    "papermill": {
     "duration": 0.032598,
     "end_time": "2024-10-09T19:22:12.207209",
     "exception": false,
     "start_time": "2024-10-09T19:22:12.174611",
     "status": "completed"
    },
    "tags": []
   },
   "outputs": [
    {
     "name": "stdout",
     "output_type": "stream",
     "text": [
      "New List1 :  [1, 2, 3, 4]\n",
      "New List2 :  ['A', 'B', 'C', 'D']\n"
     ]
    }
   ],
   "source": [
    "list1 = [1 , 2 , 3]\n",
    "list2 = [\"A\" , \"B\" , \"C\"] \n",
    "\n",
    "# adding new element to list \n",
    "list1.append(4)\n",
    "list2.append(\"D\")\n",
    "\n",
    "print(\"New List1 : \" , list1)\n",
    "print(\"New List2 : \" , list2)"
   ]
  },
  {
   "cell_type": "code",
   "execution_count": 2,
   "id": "57584d78",
   "metadata": {
    "execution": {
     "iopub.execute_input": "2024-10-09T19:22:12.230109Z",
     "iopub.status.busy": "2024-10-09T19:22:12.229510Z",
     "iopub.status.idle": "2024-10-09T19:22:12.239505Z",
     "shell.execute_reply": "2024-10-09T19:22:12.237463Z"
    },
    "papermill": {
     "duration": 0.025011,
     "end_time": "2024-10-09T19:22:12.243213",
     "exception": false,
     "start_time": "2024-10-09T19:22:12.218202",
     "status": "completed"
    },
    "tags": []
   },
   "outputs": [
    {
     "name": "stdout",
     "output_type": "stream",
     "text": [
      "The First element in the list1 :  1\n",
      "The Second element in the list1 :  2\n",
      " \n",
      "The First element in the list2 :  A\n",
      "The Second element in the list2 :  B\n"
     ]
    }
   ],
   "source": [
    "list1 = [1 , 2 , 3]\n",
    "list2 = [\"A\" , \"B\" , \"C\"] \n",
    "\n",
    "# accessing an element \n",
    "print(\"The First element in the list1 : \" , list1[0])\n",
    "print(\"The Second element in the list1 : \" , list1[1])\n",
    "print(\" \")\n",
    "print(\"The First element in the list2 : \" , list2[0])\n",
    "print(\"The Second element in the list2 : \" , list2[1])"
   ]
  },
  {
   "cell_type": "code",
   "execution_count": 3,
   "id": "da21b243",
   "metadata": {
    "execution": {
     "iopub.execute_input": "2024-10-09T19:22:12.266001Z",
     "iopub.status.busy": "2024-10-09T19:22:12.265459Z",
     "iopub.status.idle": "2024-10-09T19:22:12.273354Z",
     "shell.execute_reply": "2024-10-09T19:22:12.272118Z"
    },
    "papermill": {
     "duration": 0.023627,
     "end_time": "2024-10-09T19:22:12.277286",
     "exception": false,
     "start_time": "2024-10-09T19:22:12.253659",
     "status": "completed"
    },
    "tags": []
   },
   "outputs": [
    {
     "name": "stdout",
     "output_type": "stream",
     "text": [
      "New List1 :  [1, 3]\n",
      "New List2 :  ['A', 'C']\n"
     ]
    }
   ],
   "source": [
    "list1 = [1 , 2 , 3]\n",
    "list2 = [\"A\" , \"B\" , \"C\"] \n",
    "\n",
    "# Removing an element from the list \n",
    "list1.remove(2)\n",
    "list2.remove(\"B\")\n",
    "\n",
    "print(\"New List1 : \" , list1)\n",
    "print(\"New List2 : \" , list2)"
   ]
  },
  {
   "cell_type": "markdown",
   "id": "ddac9122",
   "metadata": {
    "papermill": {
     "duration": 0.009445,
     "end_time": "2024-10-09T19:22:12.297077",
     "exception": false,
     "start_time": "2024-10-09T19:22:12.287632",
     "status": "completed"
    },
    "tags": []
   },
   "source": [
    "# 2- Tuple"
   ]
  },
  {
   "cell_type": "code",
   "execution_count": 4,
   "id": "6689edc5",
   "metadata": {
    "execution": {
     "iopub.execute_input": "2024-10-09T19:22:12.318405Z",
     "iopub.status.busy": "2024-10-09T19:22:12.317894Z",
     "iopub.status.idle": "2024-10-09T19:22:12.325332Z",
     "shell.execute_reply": "2024-10-09T19:22:12.323737Z"
    },
    "papermill": {
     "duration": 0.022252,
     "end_time": "2024-10-09T19:22:12.328648",
     "exception": false,
     "start_time": "2024-10-09T19:22:12.306396",
     "status": "completed"
    },
    "tags": []
   },
   "outputs": [
    {
     "name": "stdout",
     "output_type": "stream",
     "text": [
      "My Tuple1 is :  (1, 2, 3)\n",
      "My Tuple2 is :  ('A', 'B', 'C')\n"
     ]
    }
   ],
   "source": [
    "# Tuples are immutable, so you cannot modify or add elements\n",
    "# Trying to do `my_tuple[1] = 5` will raise an error.\n",
    "\n",
    "# Creating a tuple\n",
    "tuple1 = (1 , 2 , 3)\n",
    "tuple2 = (\"A\" , \"B\" , \"C\")\n",
    "\n",
    "print(\"My Tuple1 is : \" , tuple1)\n",
    "print(\"My Tuple2 is : \" , tuple2)"
   ]
  },
  {
   "cell_type": "code",
   "execution_count": 5,
   "id": "a6b2fde4",
   "metadata": {
    "execution": {
     "iopub.execute_input": "2024-10-09T19:22:12.350448Z",
     "iopub.status.busy": "2024-10-09T19:22:12.349939Z",
     "iopub.status.idle": "2024-10-09T19:22:12.358272Z",
     "shell.execute_reply": "2024-10-09T19:22:12.356745Z"
    },
    "papermill": {
     "duration": 0.023095,
     "end_time": "2024-10-09T19:22:12.361549",
     "exception": false,
     "start_time": "2024-10-09T19:22:12.338454",
     "status": "completed"
    },
    "tags": []
   },
   "outputs": [
    {
     "name": "stdout",
     "output_type": "stream",
     "text": [
      "The First element in the tuple1 :  1\n",
      "The Second element in the tuple1 :  2\n",
      " \n",
      "The First element in the tuple2 :  A\n",
      "The Second element in the tuple2 :  B\n"
     ]
    }
   ],
   "source": [
    "# accessing the tuple \n",
    "tuple1 = (1 , 2 , 3)\n",
    "tuple2 = (\"A\" , \"B\" , \"C\")\n",
    "\n",
    "print(\"The First element in the tuple1 : \" , tuple1[0])\n",
    "print(\"The Second element in the tuple1 : \" , tuple1[1])\n",
    "print(\" \")\n",
    "print(\"The First element in the tuple2 : \" , tuple2[0])\n",
    "print(\"The Second element in the tuple2 : \" , tuple2[1])"
   ]
  },
  {
   "cell_type": "markdown",
   "id": "d7d0eb90",
   "metadata": {
    "papermill": {
     "duration": 0.009615,
     "end_time": "2024-10-09T19:22:12.381079",
     "exception": false,
     "start_time": "2024-10-09T19:22:12.371464",
     "status": "completed"
    },
    "tags": []
   },
   "source": [
    "# 3- Dictionary"
   ]
  },
  {
   "cell_type": "code",
   "execution_count": 6,
   "id": "28bb2fa8",
   "metadata": {
    "execution": {
     "iopub.execute_input": "2024-10-09T19:22:12.404614Z",
     "iopub.status.busy": "2024-10-09T19:22:12.404114Z",
     "iopub.status.idle": "2024-10-09T19:22:12.410899Z",
     "shell.execute_reply": "2024-10-09T19:22:12.409306Z"
    },
    "papermill": {
     "duration": 0.022611,
     "end_time": "2024-10-09T19:22:12.414337",
     "exception": false,
     "start_time": "2024-10-09T19:22:12.391726",
     "status": "completed"
    },
    "tags": []
   },
   "outputs": [],
   "source": [
    "# Creating the dictionary\n",
    "dict1 = {\n",
    "    \"name\": \"youssef\",\n",
    "    \"age\": 22, \n",
    "    \"city\": \"Ciaro\"\n",
    "}\n",
    "\n",
    "dict2 = {\n",
    "    \"name\": \"ahmed\",\n",
    "    \"age\": 23, \n",
    "    \"city\": \"Beni Suif\"\n",
    "}"
   ]
  },
  {
   "cell_type": "code",
   "execution_count": 7,
   "id": "544a5b17",
   "metadata": {
    "execution": {
     "iopub.execute_input": "2024-10-09T19:22:12.438069Z",
     "iopub.status.busy": "2024-10-09T19:22:12.437524Z",
     "iopub.status.idle": "2024-10-09T19:22:12.446271Z",
     "shell.execute_reply": "2024-10-09T19:22:12.444661Z"
    },
    "papermill": {
     "duration": 0.023326,
     "end_time": "2024-10-09T19:22:12.448820",
     "exception": false,
     "start_time": "2024-10-09T19:22:12.425494",
     "status": "completed"
    },
    "tags": []
   },
   "outputs": [
    {
     "name": "stdout",
     "output_type": "stream",
     "text": [
      "first Name :  youssef\n",
      "first Age :  22\n",
      "first City :  Ciaro\n",
      "\n",
      "Second Name :  ahmed\n",
      "Second Age :  23\n",
      "Second City :  Beni Suif\n"
     ]
    }
   ],
   "source": [
    "# Accessing the elements in the dictionary\n",
    "print(\"first Name : \" , dict1[\"name\"])\n",
    "print(\"first Age : \" , dict1[\"age\"])\n",
    "print(\"first City : \" , dict1[\"city\"])\n",
    "print()\n",
    "print(\"Second Name : \" , dict2[\"name\"])\n",
    "print(\"Second Age : \" , dict2[\"age\"])\n",
    "print(\"Second City : \" , dict2[\"city\"])"
   ]
  },
  {
   "cell_type": "code",
   "execution_count": 8,
   "id": "214435e3",
   "metadata": {
    "execution": {
     "iopub.execute_input": "2024-10-09T19:22:12.472458Z",
     "iopub.status.busy": "2024-10-09T19:22:12.470994Z",
     "iopub.status.idle": "2024-10-09T19:22:12.479728Z",
     "shell.execute_reply": "2024-10-09T19:22:12.478356Z"
    },
    "papermill": {
     "duration": 0.023087,
     "end_time": "2024-10-09T19:22:12.482479",
     "exception": false,
     "start_time": "2024-10-09T19:22:12.459392",
     "status": "completed"
    },
    "tags": []
   },
   "outputs": [
    {
     "name": "stdout",
     "output_type": "stream",
     "text": [
      "My dict1 is :  {'name': 'youssef', 'age': 22, 'city': 'Ciaro', 'grade': '3.3'}\n",
      "\n",
      "My dict2 is :  {'name': 'ahmed', 'age': 23, 'city': 'Beni Suif', 'grade': '3.5'}\n"
     ]
    }
   ],
   "source": [
    "# adding a new element in the dictionary \n",
    "dict1[\"grade\"] = \"3.3\"\n",
    "dict2[\"grade\"] = \"3.5\"\n",
    "\n",
    "print(\"My dict1 is : \" , dict1)\n",
    "print()\n",
    "print(\"My dict2 is : \" , dict2)"
   ]
  },
  {
   "cell_type": "code",
   "execution_count": 9,
   "id": "234a8525",
   "metadata": {
    "execution": {
     "iopub.execute_input": "2024-10-09T19:22:12.504771Z",
     "iopub.status.busy": "2024-10-09T19:22:12.504353Z",
     "iopub.status.idle": "2024-10-09T19:22:12.511579Z",
     "shell.execute_reply": "2024-10-09T19:22:12.510293Z"
    },
    "papermill": {
     "duration": 0.021909,
     "end_time": "2024-10-09T19:22:12.514579",
     "exception": false,
     "start_time": "2024-10-09T19:22:12.492670",
     "status": "completed"
    },
    "tags": []
   },
   "outputs": [
    {
     "name": "stdout",
     "output_type": "stream",
     "text": [
      "My dict1 is :  {'name': 'youssef', 'age': 22, 'city': 'Ciaro'}\n",
      "\n",
      "My dict2 is :  {'name': 'ahmed', 'age': 23, 'city': 'Beni Suif'}\n"
     ]
    }
   ],
   "source": [
    "# Removing a key_value pair from the dictionary \n",
    "del dict1[\"grade\"]\n",
    "del dict2[\"grade\"]\n",
    "\n",
    "print(\"My dict1 is : \" , dict1)\n",
    "print()\n",
    "print(\"My dict2 is : \" , dict2)"
   ]
  },
  {
   "cell_type": "markdown",
   "id": "9af7e2a9",
   "metadata": {
    "papermill": {
     "duration": 0.010597,
     "end_time": "2024-10-09T19:22:12.535788",
     "exception": false,
     "start_time": "2024-10-09T19:22:12.525191",
     "status": "completed"
    },
    "tags": []
   },
   "source": [
    "# 4- Set"
   ]
  },
  {
   "cell_type": "code",
   "execution_count": 10,
   "id": "abcc9161",
   "metadata": {
    "execution": {
     "iopub.execute_input": "2024-10-09T19:22:12.559402Z",
     "iopub.status.busy": "2024-10-09T19:22:12.558509Z",
     "iopub.status.idle": "2024-10-09T19:22:12.566103Z",
     "shell.execute_reply": "2024-10-09T19:22:12.564829Z"
    },
    "papermill": {
     "duration": 0.022664,
     "end_time": "2024-10-09T19:22:12.569081",
     "exception": false,
     "start_time": "2024-10-09T19:22:12.546417",
     "status": "completed"
    },
    "tags": []
   },
   "outputs": [
    {
     "name": "stdout",
     "output_type": "stream",
     "text": [
      "my set1 is :  {1, 2, 3, 4, 5}\n",
      "\n",
      "my set2 is :  {'c', 'a', 'd', 'b', 'e'}\n"
     ]
    }
   ],
   "source": [
    "# Creating a set\n",
    "set1 = { 1 ,  2 ,  3 , 4 , 5 }\n",
    "set2 = { \"a\" , \"b\" , \"c\" , \"d\" , \"e\" }\n",
    "\n",
    "print(\"my set1 is : \" , set1)\n",
    "print()\n",
    "print(\"my set2 is : \" , set2)"
   ]
  },
  {
   "cell_type": "code",
   "execution_count": 11,
   "id": "6b478f7b",
   "metadata": {
    "execution": {
     "iopub.execute_input": "2024-10-09T19:22:12.592202Z",
     "iopub.status.busy": "2024-10-09T19:22:12.591749Z",
     "iopub.status.idle": "2024-10-09T19:22:12.598597Z",
     "shell.execute_reply": "2024-10-09T19:22:12.597481Z"
    },
    "papermill": {
     "duration": 0.021568,
     "end_time": "2024-10-09T19:22:12.601399",
     "exception": false,
     "start_time": "2024-10-09T19:22:12.579831",
     "status": "completed"
    },
    "tags": []
   },
   "outputs": [
    {
     "name": "stdout",
     "output_type": "stream",
     "text": [
      "New set1 is :  {1, 2, 3, 4, 5, 6}\n",
      "New set2 is :  {'c', 'a', 6, 'd', 'b', 'e'}\n"
     ]
    }
   ],
   "source": [
    "# Adding an element\n",
    "set1.add(6)\n",
    "set2.add(6)\n",
    "\n",
    "print(\"New set1 is : \", set1)\n",
    "print(\"New set2 is : \", set2)"
   ]
  },
  {
   "cell_type": "code",
   "execution_count": 12,
   "id": "a5ff474c",
   "metadata": {
    "execution": {
     "iopub.execute_input": "2024-10-09T19:22:12.625938Z",
     "iopub.status.busy": "2024-10-09T19:22:12.624937Z",
     "iopub.status.idle": "2024-10-09T19:22:12.632028Z",
     "shell.execute_reply": "2024-10-09T19:22:12.630652Z"
    },
    "papermill": {
     "duration": 0.022511,
     "end_time": "2024-10-09T19:22:12.635109",
     "exception": false,
     "start_time": "2024-10-09T19:22:12.612598",
     "status": "completed"
    },
    "tags": []
   },
   "outputs": [
    {
     "name": "stdout",
     "output_type": "stream",
     "text": [
      "New set1 is :  {2, 3, 4, 5, 6}\n",
      "New set2 is :  {'c', 6, 'd', 'b', 'e'}\n"
     ]
    }
   ],
   "source": [
    "# Removing an element\n",
    "set1.remove(1)\n",
    "set2.remove(\"a\")\n",
    "\n",
    "print(\"New set1 is : \", set1)\n",
    "print(\"New set2 is : \", set2)"
   ]
  },
  {
   "cell_type": "code",
   "execution_count": 13,
   "id": "4d0a9a21",
   "metadata": {
    "execution": {
     "iopub.execute_input": "2024-10-09T19:22:12.660164Z",
     "iopub.status.busy": "2024-10-09T19:22:12.659627Z",
     "iopub.status.idle": "2024-10-09T19:22:12.668078Z",
     "shell.execute_reply": "2024-10-09T19:22:12.666665Z"
    },
    "papermill": {
     "duration": 0.024613,
     "end_time": "2024-10-09T19:22:12.671134",
     "exception": false,
     "start_time": "2024-10-09T19:22:12.646521",
     "status": "completed"
    },
    "tags": []
   },
   "outputs": [
    {
     "name": "stdout",
     "output_type": "stream",
     "text": [
      "New set1 is :  {1, 2, 3, 4, 5}\n",
      "New set2 is :  {'c', 'a', 'd', 'b', 'e'}\n"
     ]
    }
   ],
   "source": [
    "set1 = { 1 ,  2 ,  3 , 4 , 5 }\n",
    "set2 = { \"a\" , \"b\" , \"c\" , \"d\" , \"e\" }\n",
    "\n",
    "set1.add(1)\n",
    "set2.add(\"a\")\n",
    "\n",
    "print(\"New set1 is : \", set1)\n",
    "print(\"New set2 is : \", set2)"
   ]
  },
  {
   "cell_type": "markdown",
   "id": "6e6eb86a",
   "metadata": {
    "papermill": {
     "duration": 0.010601,
     "end_time": "2024-10-09T19:22:12.692240",
     "exception": false,
     "start_time": "2024-10-09T19:22:12.681639",
     "status": "completed"
    },
    "tags": []
   },
   "source": [
    "# 5- Stack (using List)"
   ]
  },
  {
   "cell_type": "code",
   "execution_count": 14,
   "id": "91ae1b7c",
   "metadata": {
    "execution": {
     "iopub.execute_input": "2024-10-09T19:22:12.717210Z",
     "iopub.status.busy": "2024-10-09T19:22:12.716636Z",
     "iopub.status.idle": "2024-10-09T19:22:12.722825Z",
     "shell.execute_reply": "2024-10-09T19:22:12.721200Z"
    },
    "papermill": {
     "duration": 0.022918,
     "end_time": "2024-10-09T19:22:12.725982",
     "exception": false,
     "start_time": "2024-10-09T19:22:12.703064",
     "status": "completed"
    },
    "tags": []
   },
   "outputs": [],
   "source": [
    "# Creating Stack using list\n",
    "stack = []"
   ]
  },
  {
   "cell_type": "code",
   "execution_count": 15,
   "id": "f665cca7",
   "metadata": {
    "execution": {
     "iopub.execute_input": "2024-10-09T19:22:12.750308Z",
     "iopub.status.busy": "2024-10-09T19:22:12.748911Z",
     "iopub.status.idle": "2024-10-09T19:22:12.757143Z",
     "shell.execute_reply": "2024-10-09T19:22:12.755565Z"
    },
    "papermill": {
     "duration": 0.023827,
     "end_time": "2024-10-09T19:22:12.760437",
     "exception": false,
     "start_time": "2024-10-09T19:22:12.736610",
     "status": "completed"
    },
    "tags": []
   },
   "outputs": [
    {
     "name": "stdout",
     "output_type": "stream",
     "text": [
      "Stack after pushing: [1, 2, 3]\n"
     ]
    }
   ],
   "source": [
    "# Pushing elements onto the stack\n",
    "stack.append(1)\n",
    "stack.append(2)\n",
    "stack.append(3)\n",
    "print(\"Stack after pushing:\", stack) "
   ]
  },
  {
   "cell_type": "code",
   "execution_count": 16,
   "id": "2bfde9fb",
   "metadata": {
    "execution": {
     "iopub.execute_input": "2024-10-09T19:22:12.785622Z",
     "iopub.status.busy": "2024-10-09T19:22:12.784115Z",
     "iopub.status.idle": "2024-10-09T19:22:12.791658Z",
     "shell.execute_reply": "2024-10-09T19:22:12.790088Z"
    },
    "papermill": {
     "duration": 0.0237,
     "end_time": "2024-10-09T19:22:12.795290",
     "exception": false,
     "start_time": "2024-10-09T19:22:12.771590",
     "status": "completed"
    },
    "tags": []
   },
   "outputs": [
    {
     "name": "stdout",
     "output_type": "stream",
     "text": [
      "Stack after popping: [1, 2]\n"
     ]
    }
   ],
   "source": [
    "# Popping elements from the stack\n",
    "stack.pop()\n",
    "print(\"Stack after popping:\", stack) "
   ]
  },
  {
   "cell_type": "markdown",
   "id": "e99660f2",
   "metadata": {
    "papermill": {
     "duration": 0.010379,
     "end_time": "2024-10-09T19:22:12.816503",
     "exception": false,
     "start_time": "2024-10-09T19:22:12.806124",
     "status": "completed"
    },
    "tags": []
   },
   "source": [
    "# 6- Queue (using List)"
   ]
  },
  {
   "cell_type": "code",
   "execution_count": 17,
   "id": "9d4b50ee",
   "metadata": {
    "execution": {
     "iopub.execute_input": "2024-10-09T19:22:12.840711Z",
     "iopub.status.busy": "2024-10-09T19:22:12.839843Z",
     "iopub.status.idle": "2024-10-09T19:22:12.845838Z",
     "shell.execute_reply": "2024-10-09T19:22:12.844318Z"
    },
    "papermill": {
     "duration": 0.021145,
     "end_time": "2024-10-09T19:22:12.848614",
     "exception": false,
     "start_time": "2024-10-09T19:22:12.827469",
     "status": "completed"
    },
    "tags": []
   },
   "outputs": [],
   "source": [
    "# Creating Queue using list\n",
    "queue = []"
   ]
  },
  {
   "cell_type": "code",
   "execution_count": 18,
   "id": "6ec1c9d0",
   "metadata": {
    "execution": {
     "iopub.execute_input": "2024-10-09T19:22:12.872303Z",
     "iopub.status.busy": "2024-10-09T19:22:12.871495Z",
     "iopub.status.idle": "2024-10-09T19:22:12.879058Z",
     "shell.execute_reply": "2024-10-09T19:22:12.877472Z"
    },
    "papermill": {
     "duration": 0.022875,
     "end_time": "2024-10-09T19:22:12.882088",
     "exception": false,
     "start_time": "2024-10-09T19:22:12.859213",
     "status": "completed"
    },
    "tags": []
   },
   "outputs": [
    {
     "name": "stdout",
     "output_type": "stream",
     "text": [
      "Queue after enqueuing: [1, 2, 3]\n"
     ]
    }
   ],
   "source": [
    "# Adding elemr=ents to queue \n",
    "queue.append(1)\n",
    "queue.append(2)\n",
    "queue.append(3)\n",
    "print(\"Queue after enqueuing:\", queue) "
   ]
  },
  {
   "cell_type": "code",
   "execution_count": 19,
   "id": "1ec53c30",
   "metadata": {
    "execution": {
     "iopub.execute_input": "2024-10-09T19:22:12.906476Z",
     "iopub.status.busy": "2024-10-09T19:22:12.905324Z",
     "iopub.status.idle": "2024-10-09T19:22:12.912369Z",
     "shell.execute_reply": "2024-10-09T19:22:12.910961Z"
    },
    "papermill": {
     "duration": 0.022667,
     "end_time": "2024-10-09T19:22:12.915512",
     "exception": false,
     "start_time": "2024-10-09T19:22:12.892845",
     "status": "completed"
    },
    "tags": []
   },
   "outputs": [
    {
     "name": "stdout",
     "output_type": "stream",
     "text": [
      "Queue after dequeuing: [2, 3]\n"
     ]
    }
   ],
   "source": [
    "# Removing elements from the queue \n",
    "queue.pop(0)\n",
    "print(\"Queue after dequeuing:\", queue)"
   ]
  },
  {
   "cell_type": "code",
   "execution_count": null,
   "id": "043b1bab",
   "metadata": {
    "papermill": {
     "duration": 0.010503,
     "end_time": "2024-10-09T19:22:12.936986",
     "exception": false,
     "start_time": "2024-10-09T19:22:12.926483",
     "status": "completed"
    },
    "tags": []
   },
   "outputs": [],
   "source": []
  }
 ],
 "metadata": {
  "kaggle": {
   "accelerator": "none",
   "dataSources": [],
   "dockerImageVersionId": 30786,
   "isGpuEnabled": false,
   "isInternetEnabled": true,
   "language": "python",
   "sourceType": "notebook"
  },
  "kernelspec": {
   "display_name": "Python 3",
   "language": "python",
   "name": "python3"
  },
  "language_info": {
   "codemirror_mode": {
    "name": "ipython",
    "version": 3
   },
   "file_extension": ".py",
   "mimetype": "text/x-python",
   "name": "python",
   "nbconvert_exporter": "python",
   "pygments_lexer": "ipython3",
   "version": "3.10.14"
  },
  "papermill": {
   "default_parameters": {},
   "duration": 4.529014,
   "end_time": "2024-10-09T19:22:13.370403",
   "environment_variables": {},
   "exception": null,
   "input_path": "__notebook__.ipynb",
   "output_path": "__notebook__.ipynb",
   "parameters": {},
   "start_time": "2024-10-09T19:22:08.841389",
   "version": "2.6.0"
  }
 },
 "nbformat": 4,
 "nbformat_minor": 5
}
